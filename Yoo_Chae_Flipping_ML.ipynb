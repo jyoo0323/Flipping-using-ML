{
 "cells": [
  {
   "cell_type": "code",
   "execution_count": 1,
   "metadata": {},
   "outputs": [],
   "source": [
    "import pandas as pd\n",
    "import numpy as np\n",
    "%matplotlib inline\n",
    "import matplotlib.pyplot as plt\n",
    "import sklearn\n",
    "from sklearn.preprocessing import StandardScaler\n",
    "from sklearn.linear_model import LinearRegression, LogisticRegression,SGDRegressor\n",
    "from sklearn.metrics import mean_squared_error, r2_score\n",
    "from sklearn.model_selection import train_test_split, GridSearchCV, cross_val_score\n",
    "from sklearn.metrics import confusion_matrix, precision_score, recall_score, f1_score, roc_curve, precision_recall_curve, classification_report\n",
    "from sklearn.neural_network import MLPClassifier\n",
    "import warnings"
   ]
  },
  {
   "cell_type": "markdown",
   "metadata": {},
   "source": [
    "<font color=black size=6><u><b>Data Processing</b></u></font>"
   ]
  },
  {
   "cell_type": "code",
   "execution_count": 2,
   "metadata": {
    "scrolled": true
   },
   "outputs": [],
   "source": [
    "#Reading datasets\n",
    "\n",
    "df_ss_train = pd.read_csv(\"Samsung_train.csv\")\n",
    "#Samsung's investment information from 01/01/2017 to 09/30/2018 in Korean currency(won) \n",
    "df_ss_test = pd.read_csv(\"Samsung_test.csv\")\n",
    "#Samsung's investment information from 10/01/2018 to 12/31/2018 in Korean currency(won)\n",
    "\n",
    "df_ts_train = pd.read_csv(\"TSLA_train.csv\")\n",
    "#Tesla's  investment information from 01/01/2017 to 09/30/2018 in USD\n",
    "df_ts_test = pd.read_csv(\"TSLA_test.csv\")\n",
    "#Tesla's  investment information from 10/01/2018 to 12/31/2018 in USD\n",
    "\n",
    "df_fb_train = pd.read_csv(\"FB_train.csv\")\n",
    "#Facebook's investment information from 01/01/2017 to 09/30/2018 in USD\n",
    "df_fb_test = pd.read_csv(\"FB_test.csv\")\n",
    "#Facebook's investment information from 10/01/2018 to 12/31/2018 in USD"
   ]
  },
  {
   "cell_type": "code",
   "execution_count": 3,
   "metadata": {},
   "outputs": [
    {
     "name": "stdout",
     "output_type": "stream",
     "text": [
      "\n",
      "\n",
      "< Description of the Data (Samsung_train)>\n",
      "<class 'pandas.core.frame.DataFrame'>\n",
      "RangeIndex: 423 entries, 0 to 422\n",
      "Data columns (total 7 columns):\n",
      "Date         423 non-null object\n",
      "Open         423 non-null int64\n",
      "High         423 non-null int64\n",
      "Low          423 non-null int64\n",
      "Close        423 non-null int64\n",
      "Adj Close    423 non-null float64\n",
      "Volume       423 non-null int64\n",
      "dtypes: float64(1), int64(5), object(1)\n",
      "memory usage: 23.2+ KB\n",
      "None\n",
      "\n",
      "\n",
      "< Description of the Data (Samsung_test)>\n",
      "<class 'pandas.core.frame.DataFrame'>\n",
      "RangeIndex: 62 entries, 0 to 61\n",
      "Data columns (total 7 columns):\n",
      "Date         62 non-null object\n",
      "Open         61 non-null float64\n",
      "High         61 non-null float64\n",
      "Low          61 non-null float64\n",
      "Close        61 non-null float64\n",
      "Adj Close    61 non-null float64\n",
      "Volume       61 non-null float64\n",
      "dtypes: float64(6), object(1)\n",
      "memory usage: 3.5+ KB\n",
      "None\n",
      "\n",
      "\n",
      "< Summary of the numerical attributes (Samsung_train)>\n",
      "                Open          High           Low         Close     Adj Close  \\\n",
      "count    423.000000    423.000000    423.000000    423.000000    423.000000   \n",
      "mean   47239.338061  47691.134752  46772.884161  47223.877069  25443.743206   \n",
      "std     4718.234522   4720.810803   4592.832733   4639.204061  15371.728314   \n",
      "min    35980.000000  36060.000000  35540.000000  35560.000000   7515.973145   \n",
      "25%    45410.000000  45740.000000  44880.000000  45180.000000  11684.469725   \n",
      "50%    47380.000000  47800.000000  46850.000000  47400.000000  18558.615230   \n",
      "75%    50550.000000  51010.000000  49965.000000  50520.000000  44792.496090   \n",
      "max    57500.000000  57520.000000  56760.000000  57220.000000  51733.824220   \n",
      "\n",
      "             Volume  \n",
      "count  4.230000e+02  \n",
      "mean   1.213052e+07  \n",
      "std    5.956200e+06  \n",
      "min    0.000000e+00  \n",
      "25%    8.872675e+06  \n",
      "50%    1.082378e+07  \n",
      "75%    1.389798e+07  \n",
      "max    6.468130e+07  \n",
      "\n",
      "\n",
      "< Summary of the numerical attributes (Samsung_test)>\n",
      "                Open          High           Low         Close     Adj Close  \\\n",
      "count     61.000000     61.000000     61.000000     61.000000     61.000000   \n",
      "mean   42345.081967  42827.049180  41911.475410  42352.459016  41973.156442   \n",
      "std     2178.908460   2157.362853   2059.781409   2123.900230   2083.553531   \n",
      "min    38200.000000  38650.000000  38100.000000  38250.000000  37996.000000   \n",
      "25%    40650.000000  41300.000000  40450.000000  40950.000000  40572.000000   \n",
      "50%    42900.000000  43200.000000  42250.000000  42800.000000  42404.921875   \n",
      "75%    43900.000000  44500.000000  43400.000000  44000.000000  43593.843750   \n",
      "max    46450.000000  46800.000000  45800.000000  46350.000000  45922.152344   \n",
      "\n",
      "             Volume  \n",
      "count  6.100000e+01  \n",
      "mean   1.123298e+07  \n",
      "std    4.128536e+06  \n",
      "min    5.192638e+06  \n",
      "25%    8.306193e+06  \n",
      "50%    1.054416e+07  \n",
      "75%    1.342313e+07  \n",
      "max    2.625465e+07  \n",
      "\n",
      "\n",
      "< Missing data for the columns (Samsung_train)>\n",
      " Date         0\n",
      "Open         0\n",
      "High         0\n",
      "Low          0\n",
      "Close        0\n",
      "Adj Close    0\n",
      "Volume       0\n",
      "dtype: int64\n",
      "\n",
      "\n",
      "< Missing data for the columns (Samsung_test)>\n",
      " Date         0\n",
      "Open         1\n",
      "High         1\n",
      "Low          1\n",
      "Close        1\n",
      "Adj Close    1\n",
      "Volume       1\n",
      "dtype: int64\n"
     ]
    }
   ],
   "source": [
    "# Description of the data(Samsung)\n",
    "print(\"\\n\\n< Description of the Data (Samsung_train)>\")\n",
    "print(df_ss_train.info())\n",
    "print(\"\\n\\n< Description of the Data (Samsung_test)>\")\n",
    "print(df_ss_test.info())\n",
    "\n",
    "# Summary of the numerical attributes (Samsung)\n",
    "print(\"\\n\\n< Summary of the numerical attributes (Samsung_train)>\\n\", df_ss_train.describe())\n",
    "print(\"\\n\\n< Summary of the numerical attributes (Samsung_test)>\\n\", df_ss_test.describe())\n",
    "\n",
    "# Check the columns for missing data (Samsung)\n",
    "print(\"\\n\\n< Missing data for the columns (Samsung_train)>\\n\", df_ss_train.isnull().sum())\n",
    "print(\"\\n\\n< Missing data for the columns (Samsung_test)>\\n\", df_ss_test.isnull().sum())"
   ]
  },
  {
   "cell_type": "code",
   "execution_count": 4,
   "metadata": {},
   "outputs": [
    {
     "name": "stdout",
     "output_type": "stream",
     "text": [
      "\n",
      "\n",
      "< Description of the Data (Tesla_train)>\n",
      "<class 'pandas.core.frame.DataFrame'>\n",
      "RangeIndex: 439 entries, 0 to 438\n",
      "Data columns (total 7 columns):\n",
      "Date         439 non-null object\n",
      "Open         439 non-null float64\n",
      "High         439 non-null float64\n",
      "Low          439 non-null float64\n",
      "Close        439 non-null float64\n",
      "Adj Close    439 non-null float64\n",
      "Volume       439 non-null int64\n",
      "dtypes: float64(5), int64(1), object(1)\n",
      "memory usage: 24.1+ KB\n",
      "None\n",
      "\n",
      "\n",
      "< Description of the Data (Tesla_test)>\n",
      "<class 'pandas.core.frame.DataFrame'>\n",
      "RangeIndex: 63 entries, 0 to 62\n",
      "Data columns (total 7 columns):\n",
      "Date         63 non-null object\n",
      "Open         63 non-null float64\n",
      "High         63 non-null float64\n",
      "Low          63 non-null float64\n",
      "Close        63 non-null float64\n",
      "Adj Close    63 non-null float64\n",
      "Volume       63 non-null int64\n",
      "dtypes: float64(5), int64(1), object(1)\n",
      "memory usage: 3.5+ KB\n",
      "None\n",
      "\n",
      "\n",
      "< Summary of the numerical attributes (Tesla_train)>\n",
      "              Open        High         Low       Close   Adj Close  \\\n",
      "count  439.000000  439.000000  439.000000  439.000000  439.000000   \n",
      "mean   314.671299  319.785376  309.422141  314.831117  314.831117   \n",
      "std     35.852483   36.058443   34.950895   35.234128   35.234128   \n",
      "min    214.750000  220.330002  210.960007  216.990005  216.990005   \n",
      "25%    296.294998  300.830001  289.040008  295.100006  295.100006   \n",
      "50%    316.130005  321.529999  311.000000  316.579987  316.579987   \n",
      "75%    343.919998  348.354995  336.699997  342.809998  342.809998   \n",
      "max    386.690002  389.609985  379.350006  385.000000  385.000000   \n",
      "\n",
      "             Volume  \n",
      "count  4.390000e+02  \n",
      "mean   7.257037e+06  \n",
      "std    4.084503e+06  \n",
      "min    2.186700e+06  \n",
      "25%    4.691300e+06  \n",
      "50%    6.093000e+06  \n",
      "75%    8.213100e+06  \n",
      "max    3.364970e+07  \n",
      "\n",
      "\n",
      "< Summary of the numerical attributes (Tesla_test)>\n",
      "              Open        High         Low       Close   Adj Close  \\\n",
      "count   63.000000   63.000000   63.000000   63.000000   63.000000   \n",
      "mean   323.185714  330.038412  314.980000  322.655873  322.655873   \n",
      "std     34.964598   35.414484   36.190450   35.998759   35.998759   \n",
      "min    255.250000  261.859985  247.770004  250.559998  250.559998   \n",
      "25%    302.189988  308.020004  292.830001  295.095001  295.095001   \n",
      "50%    337.470001  344.700012  329.100006  334.850006  334.850006   \n",
      "75%    347.684998  351.574997  340.854996  348.290008  348.290008   \n",
      "max    375.000000  379.489990  366.750000  376.790009  376.790009   \n",
      "\n",
      "             Volume  \n",
      "count  6.300000e+01  \n",
      "mean   8.981444e+06  \n",
      "std    4.663973e+06  \n",
      "min    3.080700e+06  \n",
      "25%    6.323200e+06  \n",
      "50%    7.842500e+06  \n",
      "75%    9.450950e+06  \n",
      "max    2.742550e+07  \n",
      "\n",
      "\n",
      "< Missing data for the columns (Tesla_train)>\n",
      " Date         0\n",
      "Open         0\n",
      "High         0\n",
      "Low          0\n",
      "Close        0\n",
      "Adj Close    0\n",
      "Volume       0\n",
      "dtype: int64\n",
      "\n",
      "\n",
      "< Missing data for the columns (Tesla_test)>\n",
      " Date         0\n",
      "Open         0\n",
      "High         0\n",
      "Low          0\n",
      "Close        0\n",
      "Adj Close    0\n",
      "Volume       0\n",
      "dtype: int64\n"
     ]
    }
   ],
   "source": [
    "# Description of the data(Tesla)\n",
    "print(\"\\n\\n< Description of the Data (Tesla_train)>\")\n",
    "print(df_ts_train.info())\n",
    "print(\"\\n\\n< Description of the Data (Tesla_test)>\")\n",
    "print(df_ts_test.info())\n",
    "\n",
    "# Summary of the numerical attributes (Tesla)\n",
    "print(\"\\n\\n< Summary of the numerical attributes (Tesla_train)>\\n\", df_ts_train.describe())\n",
    "print(\"\\n\\n< Summary of the numerical attributes (Tesla_test)>\\n\", df_ts_test.describe())\n",
    "\n",
    "# Check the columns for missing data (Tesla)\n",
    "print(\"\\n\\n< Missing data for the columns (Tesla_train)>\\n\", df_ts_train.isnull().sum())\n",
    "print(\"\\n\\n< Missing data for the columns (Tesla_test)>\\n\", df_ts_test.isnull().sum())"
   ]
  },
  {
   "cell_type": "code",
   "execution_count": 5,
   "metadata": {},
   "outputs": [
    {
     "name": "stdout",
     "output_type": "stream",
     "text": [
      "\n",
      "\n",
      "< Description of the Data (Facebook_train)>\n",
      "<class 'pandas.core.frame.DataFrame'>\n",
      "RangeIndex: 439 entries, 0 to 438\n",
      "Data columns (total 7 columns):\n",
      "Date         439 non-null object\n",
      "Open         439 non-null float64\n",
      "High         439 non-null float64\n",
      "Low          439 non-null float64\n",
      "Close        439 non-null float64\n",
      "Adj Close    439 non-null float64\n",
      "Volume       439 non-null int64\n",
      "dtypes: float64(5), int64(1), object(1)\n",
      "memory usage: 24.1+ KB\n",
      "None\n",
      "\n",
      "\n",
      "< Description of the Data (Facebook_test)>\n",
      "<class 'pandas.core.frame.DataFrame'>\n",
      "RangeIndex: 63 entries, 0 to 62\n",
      "Data columns (total 7 columns):\n",
      "Date         63 non-null object\n",
      "Open         63 non-null float64\n",
      "High         63 non-null float64\n",
      "Low          63 non-null float64\n",
      "Close        63 non-null float64\n",
      "Adj Close    63 non-null float64\n",
      "Volume       63 non-null int64\n",
      "dtypes: float64(5), int64(1), object(1)\n",
      "memory usage: 3.5+ KB\n",
      "None\n",
      "\n",
      "\n",
      "< Summary of the numerical attributes (Facebook_train)>\n",
      "              Open        High         Low       Close   Adj Close  \\\n",
      "count  439.000000  439.000000  439.000000  439.000000  439.000000   \n",
      "mean   166.661253  168.163599  165.138702  166.795307  166.795307   \n",
      "std     19.749756   20.015135   19.477226   19.770192   19.770192   \n",
      "min    116.029999  117.839996  115.510002  116.860001  116.860001   \n",
      "25%    151.730003  152.589996  150.135003  151.495003  151.495003   \n",
      "50%    170.669998  172.270004  169.220001  170.949997  170.949997   \n",
      "75%    179.729995  181.209999  178.120002  179.790001  179.790001   \n",
      "max    215.720001  218.619995  214.270004  217.500000  217.500000   \n",
      "\n",
      "             Volume  \n",
      "count  4.390000e+02  \n",
      "mean   2.154260e+07  \n",
      "std    1.604728e+07  \n",
      "min    8.190300e+06  \n",
      "25%    1.342470e+07  \n",
      "50%    1.726540e+07  \n",
      "75%    2.281170e+07  \n",
      "max    1.698037e+08  \n",
      "\n",
      "\n",
      "< Summary of the numerical attributes (Facebook_test)>\n",
      "              Open        High         Low       Close   Adj Close  \\\n",
      "count   63.000000   63.000000   63.000000   63.000000   63.000000   \n",
      "mean   145.272540  147.620159  142.719049  144.868730  144.868730   \n",
      "std      9.848335    9.201604    9.815727    9.495773    9.495773   \n",
      "min    123.099998  129.740005  123.019997  124.059998  124.059998   \n",
      "25%    137.934998  140.430000  134.895005  137.674995  137.674995   \n",
      "50%    143.880005  146.009995  141.619995  144.220001  144.220001   \n",
      "75%    153.800003  155.190002  150.340004  152.569999  152.569999   \n",
      "max    163.029999  165.880005  161.259995  162.440002  162.440002   \n",
      "\n",
      "             Volume  \n",
      "count  6.300000e+01  \n",
      "mean   2.697435e+07  \n",
      "std    1.025242e+07  \n",
      "min    1.188610e+07  \n",
      "25%    2.097290e+07  \n",
      "50%    2.462530e+07  \n",
      "75%    3.031385e+07  \n",
      "max    6.010130e+07  \n",
      "\n",
      "\n",
      "< Missing data for the columns (Facebook_train)>\n",
      " Date         0\n",
      "Open         0\n",
      "High         0\n",
      "Low          0\n",
      "Close        0\n",
      "Adj Close    0\n",
      "Volume       0\n",
      "dtype: int64\n",
      "\n",
      "\n",
      "< Missing data for the columns (Facebook_test)>\n",
      " Date         0\n",
      "Open         0\n",
      "High         0\n",
      "Low          0\n",
      "Close        0\n",
      "Adj Close    0\n",
      "Volume       0\n",
      "dtype: int64\n"
     ]
    }
   ],
   "source": [
    "# Description of the data (Facebook)\n",
    "print(\"\\n\\n< Description of the Data (Facebook_train)>\")\n",
    "print(df_fb_train.info())\n",
    "print(\"\\n\\n< Description of the Data (Facebook_test)>\")\n",
    "print(df_fb_test.info())\n",
    "\n",
    "# Summary of the numerical attributes (Facebook)\n",
    "print(\"\\n\\n< Summary of the numerical attributes (Facebook_train)>\\n\", df_fb_train.describe())\n",
    "print(\"\\n\\n< Summary of the numerical attributes (Facebook_test)>\\n\", df_fb_test.describe())\n",
    "\n",
    "# Check the columns for missing data (Samsung)\n",
    "print(\"\\n\\n< Missing data for the columns (Facebook_train)>\\n\", df_fb_train.isnull().sum())\n",
    "print(\"\\n\\n< Missing data for the columns (Facebook_test)>\\n\", df_fb_test.isnull().sum())"
   ]
  },
  {
   "cell_type": "code",
   "execution_count": 6,
   "metadata": {},
   "outputs": [],
   "source": [
    "#Dropping Nan values if there exists:\n",
    "\n",
    "df_ss_train = df_ss_train.dropna()\n",
    "df_ss_test = df_ss_test.dropna()\n",
    "df_ss_train = df_ss_train.reset_index(drop=True)\n",
    "df_ss_test = df_ss_test.reset_index(drop=True)\n",
    "\n",
    "df_ts_train = df_ts_train.dropna()\n",
    "df_ts_test = df_ts_test.dropna()\n",
    "df_ts_train = df_ts_train.reset_index(drop=True)\n",
    "df_ts_test = df_ts_test.reset_index(drop=True)\n",
    "\n",
    "df_fb_train = df_fb_train.dropna()\n",
    "df_fb_test = df_fb_test.dropna()\n",
    "df_fb_train = df_fb_train.reset_index(drop=True)\n",
    "df_fb_test = df_fb_test.reset_index(drop=True)"
   ]
  },
  {
   "cell_type": "code",
   "execution_count": 7,
   "metadata": {
    "scrolled": true
   },
   "outputs": [
    {
     "data": {
      "image/png": "[encoded data removed]",
      "text/plain": [
       "<Figure size 432x288 with 1 Axes>"
      ]
     },
     "metadata": {
      "needs_background": "light"
     },
     "output_type": "display_data"
    }
   ],
   "source": [
    "#Graphs of Tesla and Facebook for training data. They have same currency(USD)\n",
    "plt.plot(range(439), df_ts_train['Adj Close'], \"b-\",\n",
    "         alpha=1.0, linewidth=1.0, label=\"Tesla\")\n",
    "plt.plot(range(439), df_fb_train['Adj Close'], \"g-\",\n",
    "         alpha=1.0, linewidth=1.0, label=\"Facebook\")\n",
    "\n",
    "plt.xlabel(\"Days\")\n",
    "plt.ylabel(\"Adj Close\")\n",
    "plt.title(\"Investment\")\n",
    "plt.show()"
   ]
  },
  {
   "cell_type": "code",
   "execution_count": 8,
   "metadata": {},
   "outputs": [
    {
     "data": {
      "image/png": "[encoded data removed]",
      "text/plain": [
       "<Figure size 432x288 with 1 Axes>"
      ]
     },
     "metadata": {
      "needs_background": "light"
     },
     "output_type": "display_data"
    }
   ],
   "source": [
    "#Graph of Dataset for Samsung for training data. The currency is in won (Korean currency).\n",
    "\n",
    "plt.plot(range(423), df_ss_train['Adj Close'], \"r-\",\n",
    "         alpha = 1.0, linewidth = 1.0, label = \"Samsung\")\n",
    "\n",
    "plt.xlabel(\"Days\")\n",
    "plt.ylabel(\"Adj Close\")\n",
    "plt.title(\"Investment\")\n",
    "plt.show()"
   ]
  },
  {
   "cell_type": "code",
   "execution_count": 9,
   "metadata": {
    "scrolled": true
   },
   "outputs": [],
   "source": [
    "# data matrix X for SamSung for training\n",
    "X_ss = df_ss_train[['Open','High','Low', 'Close','Volume']]\n",
    "X_ss_dates = df_ss_train['Date']\n",
    "# target vector y for SamSung for training\n",
    "y_ss = df_ss_train['Adj Close']\n",
    "\n",
    "# data matrix X for SamSung for validation\n",
    "X_ss_test = df_ss_test[['Open','High','Low', 'Close','Volume']]\n",
    "X_ss_test_dates = df_ss_test['Date']\n",
    "# target vector y for SamSung for validation\n",
    "y_ss_test = df_ss_test['Adj Close']\n",
    "\n",
    "# data matrix X for Tesla for traiinng\n",
    "X_ts = df_ts_train[['Open','High','Low', 'Close','Volume']]\n",
    "X_ts_dates = df_ts_train['Date']\n",
    "# target vector y for Tesla for training\n",
    "y_ts = df_ts_train['Adj Close']\n",
    "\n",
    "# data matrix X for Tesla for test\n",
    "X_ts_test = df_ts_test[['Open','High','Low', 'Close','Volume']]\n",
    "X_ts_dates = df_ts_test['Date']\n",
    "# target vector y for Tesla for test\n",
    "y_ts_test = df_ts_test['Adj Close']\n",
    "\n",
    "# data matrix X for Facebook for traiining\n",
    "X_fb = df_fb_train[['Open','High','Low', 'Close','Volume']]\n",
    "X_fb_dates = df_fb_train['Date']\n",
    "# target vector y for Facebook for training\n",
    "y_fb = df_fb_train['Adj Close']\n",
    "\n",
    "# data matrix X for Facebook for test\n",
    "X_fb_test = df_fb_test[['Open','High','Low', 'Close','Volume']]\n",
    "X_fb_dates = df_fb_test['Date']\n",
    "# target vector y for Facebook for test\n",
    "y_fb_test = df_fb_test['Adj Close']"
   ]
  },
  {
   "cell_type": "markdown",
   "metadata": {},
   "source": [
    "<font color=black size=6><u><b>Linear Regression</b></u></font>"
   ]
  },
  {
   "cell_type": "markdown",
   "metadata": {},
   "source": [
    "<font color=black size=3><u><b>(a) Samsung</b></u></font>"
   ]
  },
  {
   "cell_type": "code",
   "execution_count": 11,
   "metadata": {},
   "outputs": [
    {
     "name": "stdout",
     "output_type": "stream",
     "text": [
      "Linear Regression test file accuracy:-111.31071263025979\n",
      "RMSE for Samsung =  21899.084637488097\n"
     ]
    },
    {
     "data": {
      "image/png": "[encoded data removed]",
      "text/plain": [
       "<Figure size 432x288 with 1 Axes>"
      ]
     },
     "metadata": {
      "needs_background": "light"
     },
     "output_type": "display_data"
    }
   ],
   "source": [
    "lm_ss = LinearRegression(fit_intercept=True, normalize=True, n_jobs=None)\n",
    "lm_ss.fit(X_ss, y_ss)\n",
    "\n",
    "\n",
    "accuracy = lm_ss.score(X_ss_test, y_ss_test)\n",
    "print (\"Linear Regression test file accuracy:\"+str(accuracy))\n",
    "\n",
    "y_ss_pred = lm_ss.predict(X_ss_test)\n",
    "#since test data has the values upto 6th decimal, we rounded the predicted values\n",
    "y_ss_pred = np.round(y_ss_pred, 6)\n",
    "\n",
    "plt.scatter(y_ss_pred, y_ss_test)\n",
    "plt.xlabel(\"Predicted Prices\")\n",
    "plt.ylabel(\"Actual price\")\n",
    "plt.title(\"Prices: Predicted vs Actual - Samsung\")\n",
    "RMSE_ss = np.sqrt(mean_squared_error(y_ss_test,y_ss_pred,))\n",
    "\n",
    "print(\"RMSE for Samsung = \", RMSE_ss)"
   ]
  },
  {
   "cell_type": "markdown",
   "metadata": {},
   "source": [
    "<font color=black size=3><u><b>(b) Tesla</b></u></font>"
   ]
  },
  {
   "cell_type": "code",
   "execution_count": 15,
   "metadata": {},
   "outputs": [
    {
     "name": "stdout",
     "output_type": "stream",
     "text": [
      "Linear Regression test file accuracy:1.0\n",
      "0     0.000000e+00\n",
      "1     0.000000e+00\n",
      "2     0.000000e+00\n",
      "3     0.000000e+00\n",
      "4     0.000000e+00\n",
      "5     0.000000e+00\n",
      "6     0.000000e+00\n",
      "7     0.000000e+00\n",
      "8     0.000000e+00\n",
      "9     5.684342e-14\n",
      "10    0.000000e+00\n",
      "11    0.000000e+00\n",
      "12    5.684342e-14\n",
      "13    0.000000e+00\n",
      "14    0.000000e+00\n",
      "15    0.000000e+00\n",
      "16    0.000000e+00\n",
      "17    0.000000e+00\n",
      "18    0.000000e+00\n",
      "19    0.000000e+00\n",
      "20    0.000000e+00\n",
      "21    0.000000e+00\n",
      "22    0.000000e+00\n",
      "23    5.684342e-14\n",
      "24    0.000000e+00\n",
      "25    0.000000e+00\n",
      "26    0.000000e+00\n",
      "27    0.000000e+00\n",
      "28    0.000000e+00\n",
      "29    0.000000e+00\n",
      "          ...     \n",
      "33    0.000000e+00\n",
      "34    0.000000e+00\n",
      "35   -5.684342e-14\n",
      "36    0.000000e+00\n",
      "37    0.000000e+00\n",
      "38    0.000000e+00\n",
      "39    0.000000e+00\n",
      "40    0.000000e+00\n",
      "41    0.000000e+00\n",
      "42    0.000000e+00\n",
      "43    0.000000e+00\n",
      "44    0.000000e+00\n",
      "45    0.000000e+00\n",
      "46    0.000000e+00\n",
      "47   -5.684342e-14\n",
      "48    0.000000e+00\n",
      "49    0.000000e+00\n",
      "50    0.000000e+00\n",
      "51    0.000000e+00\n",
      "52    0.000000e+00\n",
      "53    0.000000e+00\n",
      "54    5.684342e-14\n",
      "55   -5.684342e-14\n",
      "56    0.000000e+00\n",
      "57    0.000000e+00\n",
      "58    0.000000e+00\n",
      "59    0.000000e+00\n",
      "60    0.000000e+00\n",
      "61    0.000000e+00\n",
      "62    0.000000e+00\n",
      "Name: Adj Close, Length: 63, dtype: float64\n",
      "RMSE for Tesla =  2.0256056959050237e-14\n"
     ]
    },
    {
     "data": {
      "image/png": "[encoded data removed]",
      "text/plain": [
       "<Figure size 432x288 with 1 Axes>"
      ]
     },
     "metadata": {
      "needs_background": "light"
     },
     "output_type": "display_data"
    }
   ],
   "source": [
    "lm_ts = LinearRegression(fit_intercept=True, normalize=True, n_jobs=None)\n",
    "lm_ts.fit(X_ts, y_ts)\n",
    "\n",
    "\n",
    "\n",
    "y_ts_pred = lm_ts.predict(X_ts_test)\n",
    "\n",
    "#since test data has the values upto 6th decimal, we rounded the predicted values\n",
    "y_ts_pred = np.round(y_ts_pred, 6)\n",
    "\n",
    "accuracy = lm_ts.score(X_ts_test, y_ts_test)\n",
    "\n",
    "print (\"Linear Regression test file accuracy:\"+str(accuracy))\n",
    "\n",
    "plt.scatter(y_ts_pred, y_ts_test)\n",
    "plt.xlabel(\"Predicted Prices\")\n",
    "plt.ylabel(\"Actual price\")\n",
    "plt.title(\"Prices: Predicted vs Actual - Tesla\")\n",
    "\n",
    "RMSE_ts = np.sqrt(mean_squared_error(y_ts_test,y_ts_pred,))\n",
    "\n",
    "print(\"RMSE for Tesla = \", RMSE_ts)"
   ]
  },
  {
   "cell_type": "markdown",
   "metadata": {},
   "source": [
    "<font color=black size=3><u><b>(c) Facebook</b></u></font>"
   ]
  },
  {
   "cell_type": "code",
   "execution_count": 12,
   "metadata": {},
   "outputs": [
    {
     "name": "stdout",
     "output_type": "stream",
     "text": [
      "Linear Regression test file accuracy:1.0\n",
      "RMSE for Facebook =  1.0128028479525118e-14\n"
     ]
    },
    {
     "data": {
      "image/png": "[encoded data removed]",
      "text/plain": [
       "<Figure size 432x288 with 1 Axes>"
      ]
     },
     "metadata": {
      "needs_background": "light"
     },
     "output_type": "display_data"
    }
   ],
   "source": [
    "lm_fb = LinearRegression(fit_intercept=True, normalize=True, n_jobs=None)\n",
    "lm_fb.fit(X_fb, y_fb)\n",
    "\n",
    "\n",
    "accuracy = lm_fb.score(X_fb_test, y_fb_test)\n",
    "print (\"Linear Regression test file accuracy:\"+str(accuracy))\n",
    "\n",
    "y_fb_pred = lm_fb.predict(X_fb_test)\n",
    "\n",
    "#since test data has the values upto 6th decimal, we rounded the predicted values\n",
    "y_fb_pred = np.round(y_fb_pred, 6)\n",
    "\n",
    "plt.scatter(y_fb_pred, y_fb_test)\n",
    "plt.xlabel(\"Predicted Prices\")\n",
    "plt.ylabel(\"Actual price\")\n",
    "plt.title(\"Prices: Predicted vs Actual - Facebook\")\n",
    "\n",
    "RMSE_fb = np.sqrt(mean_squared_error(y_fb_test,y_fb_pred,))\n",
    "\n",
    "print(\"RMSE for Facebook = \", RMSE_fb)"
   ]
  },
  {
   "cell_type": "markdown",
   "metadata": {},
   "source": [
    "<font color=black size=6><u><b>Training Logistic Regression</b></u></font>"
   ]
  },
  {
   "cell_type": "code",
   "execution_count": 16,
   "metadata": {},
   "outputs": [],
   "source": [
    "#classification data: if the adj close price has increased,\n",
    "#classified 1, if not 0\n",
    "\n",
    "#Samsung's y (Adj Close) into classification\n",
    "y_ss_cls = [0]\n",
    "for i in range(1,len(y_ss)):\n",
    "    if y_ss[i] > y_ss[i-1]:\n",
    "        y_ss_cls.append(1)\n",
    "    else:\n",
    "        y_ss_cls.append(0)\n",
    "y_ss_cls = np.asarray(y_ss_cls)\n",
    "\n",
    "y_ss_test_cls = [0]\n",
    "for i in range(1,len(y_ss_test)):\n",
    "    if y_ss_test[i] > y_ss_test[i-1]:\n",
    "        y_ss_test_cls.append(1)\n",
    "    else:\n",
    "        y_ss_test_cls.append(0)\n",
    "y_ss_test_cls = np.asarray(y_ss_test_cls)\n",
    "\n",
    "#Tesla's y (Adj Close) into classification\n",
    "y_ts_cls = [0]\n",
    "for i in range(1,len(y_ts)):\n",
    "    if y_ts[i] > y_ts[i-1]:\n",
    "        y_ts_cls.append(1)\n",
    "    else:\n",
    "        y_ts_cls.append(0)\n",
    "y_ts_cls = np.asarray(y_ts_cls)\n",
    "\n",
    "y_ts_test_cls = [0]\n",
    "for i in range(1,len(y_ts_test)):\n",
    "    if y_ts_test[i] > y_ts_test[i-1]:\n",
    "        y_ts_test_cls.append(1)\n",
    "    else:\n",
    "        y_ts_test_cls.append(0)\n",
    "y_ts_test_cls = np.asarray(y_ts_test_cls)\n",
    "\n",
    "#Facebook's y (Adj Close) into classification\n",
    "y_fb_cls = [0]\n",
    "for i in range(1,len(y_fb)):\n",
    "    if y_fb[i] > y_fb[i-1]:\n",
    "        y_fb_cls.append(1)\n",
    "    else:\n",
    "        y_fb_cls.append(0)\n",
    "y_fb_cls = np.asarray(y_fb_cls)\n",
    "\n",
    "y_fb_test_cls = [0]\n",
    "for i in range(1,len(y_fb_test)):\n",
    "    if y_fb_test[i] > y_fb_test[i-1]:\n",
    "        y_fb_test_cls.append(1)\n",
    "    else:\n",
    "        y_fb_test_cls.append(0)\n",
    "y_fb_test_cls = np.asarray(y_fb_test_cls)"
   ]
  },
  {
   "cell_type": "markdown",
   "metadata": {},
   "source": [
    "<font color=black size=3><u><b>(a) Samsung</b></u></font>"
   ]
  },
  {
   "cell_type": "code",
   "execution_count": 17,
   "metadata": {
    "scrolled": false
   },
   "outputs": [
    {
     "name": "stdout",
     "output_type": "stream",
     "text": [
      "Best Score (accuracy): 0.761229\n",
      "Optimal Hyperparameter Values:  {'C': 1, 'max_iter': 500, 'solver': 'newton-cg', 'tol': 0.001}\n",
      "\n",
      "\n",
      "Wall time: 1min 1s\n"
     ]
    }
   ],
   "source": [
    "%%time\n",
    "warnings.filterwarnings('ignore')\n",
    "\n",
    "#Training Logistic Regression Classifier on Samsung\n",
    "param_grid_ss = {'solver': ['liblinear', 'newton-cg', 'lbfgs', 'sag', 'saga'],\n",
    "              'tol': [1e-3, 1e-4, 1e-5], 'max_iter':[500, 1000, 2000],'C': [1, 10, 50]}\n",
    "\n",
    "log_ss = LogisticRegression()\n",
    "\n",
    "log_ss_cv = GridSearchCV(log_ss, param_grid_ss, scoring='accuracy', cv=10)\n",
    "log_ss_cv.fit(X_ss, y_ss_cls)\n",
    "\n",
    "params_optimal_log_ss = log_ss_cv.best_params_\n",
    "\n",
    "print(\"Best Score (accuracy): %f\" % log_ss_cv.best_score_)\n",
    "print(\"Optimal Hyperparameter Values: \", params_optimal_log_ss)\n",
    "print(\"\\n\")"
   ]
  },
  {
   "cell_type": "code",
   "execution_count": 18,
   "metadata": {},
   "outputs": [
    {
     "name": "stdout",
     "output_type": "stream",
     "text": [
      "\n",
      "Test Accuracy:  0.7049180327868853\n",
      "\n",
      "Test Confusion Matrix:\n",
      "[[25 11]\n",
      " [ 7 18]]\n",
      "\n",
      "Test Precision = 0.620690\n",
      "Test Recall = 0.720000\n",
      "Test F1 Score = 0.666667\n",
      "\n",
      "Classification Report:\n",
      "              precision    recall  f1-score   support\n",
      "\n",
      "           0       0.78      0.69      0.74        36\n",
      "           1       0.62      0.72      0.67        25\n",
      "\n",
      "    accuracy                           0.70        61\n",
      "   macro avg       0.70      0.71      0.70        61\n",
      "weighted avg       0.72      0.70      0.71        61\n",
      "\n"
     ]
    }
   ],
   "source": [
    "#Evaluation of Samsung's classification using Logistic Regression:\n",
    "log_ss_clf = LogisticRegression(**params_optimal_log_ss)\n",
    "\n",
    "log_ss_clf.fit(X_ss, y_ss_cls)\n",
    "\n",
    "y_ss_pred = log_ss_clf.predict(X_ss_test)\n",
    "\n",
    "accuracy_log_ss = np.mean(y_ss_pred == y_ss_test_cls)\n",
    "print(\"\\nTest Accuracy: \", accuracy_log_ss)\n",
    "\n",
    "print(\"\\nTest Confusion Matrix:\")\n",
    "print(confusion_matrix(y_ss_test_cls, y_ss_pred))\n",
    "\n",
    "precision_test = precision_score(y_ss_test_cls, y_ss_pred) \n",
    "print(\"\\nTest Precision = %f\" % precision_test)\n",
    "\n",
    "recall_test = recall_score(y_ss_test_cls, y_ss_pred)\n",
    "print(\"Test Recall = %f\" % recall_test)\n",
    "\n",
    "\n",
    "f1_test = f1_score(y_ss_test_cls, y_ss_pred)\n",
    "print(\"Test F1 Score = %f\" % f1_test)\n",
    "\n",
    "print(\"\\nClassification Report:\")\n",
    "print(classification_report(y_ss_test_cls, y_ss_pred))"
   ]
  },
  {
   "cell_type": "markdown",
   "metadata": {},
   "source": [
    "<font color=black size=3><u><b>(b) Tesla</b></u></font>"
   ]
  },
  {
   "cell_type": "code",
   "execution_count": 19,
   "metadata": {
    "scrolled": false
   },
   "outputs": [
    {
     "name": "stdout",
     "output_type": "stream",
     "text": [
      "Best Score (accuracy): 0.831435\n",
      "Optimal Hyperparameter Values:  {'C': 1, 'max_iter': 500, 'solver': 'liblinear', 'tol': 1e-05}\n",
      "\n",
      "\n",
      "Wall time: 1min 18s\n"
     ]
    }
   ],
   "source": [
    "%%time\n",
    "warnings.filterwarnings('ignore')\n",
    "\n",
    "#Training Logistic Regression Classifier on Tesla\n",
    "param_grid_ts = {'solver': ['liblinear', 'newton-cg', 'lbfgs', 'sag', 'saga'],\n",
    "              'tol': [1e-3, 1e-4, 1e-5], 'max_iter':[500, 1000, 2000],'C': [1, 10, 50]}\n",
    "\n",
    "log_ts = LogisticRegression()\n",
    "\n",
    "log_ts_cv = GridSearchCV(log_ts, param_grid_ts, scoring='accuracy', cv=10)\n",
    "log_ts_cv.fit(X_ts, y_ts_cls)\n",
    "\n",
    "params_optimal_log_ts = log_ts_cv.best_params_\n",
    "\n",
    "print(\"Best Score (accuracy): %f\" % log_ts_cv.best_score_)\n",
    "print(\"Optimal Hyperparameter Values: \", params_optimal_log_ts)\n",
    "print(\"\\n\")"
   ]
  },
  {
   "cell_type": "code",
   "execution_count": 20,
   "metadata": {},
   "outputs": [
    {
     "name": "stdout",
     "output_type": "stream",
     "text": [
      "\n",
      "Test Accuracy:  0.8253968253968254\n",
      "\n",
      "Test Confusion Matrix:\n",
      "[[28  5]\n",
      " [ 6 24]]\n",
      "\n",
      "Test Precision = 0.827586\n",
      "Test Recall = 0.800000\n",
      "Test F1 Score = 0.813559\n",
      "\n",
      "Classification Report:\n",
      "              precision    recall  f1-score   support\n",
      "\n",
      "           0       0.82      0.85      0.84        33\n",
      "           1       0.83      0.80      0.81        30\n",
      "\n",
      "    accuracy                           0.83        63\n",
      "   macro avg       0.83      0.82      0.82        63\n",
      "weighted avg       0.83      0.83      0.83        63\n",
      "\n"
     ]
    }
   ],
   "source": [
    "#Evaluation of Tesla's classification using Logistic Regression:\n",
    "log_ts_clf = LogisticRegression(**params_optimal_log_ts)\n",
    "\n",
    "log_ts_clf.fit(X_ts,y_ts_cls)\n",
    "\n",
    "y_ts_pred = log_ts_clf.predict(X_ts_test)\n",
    "\n",
    "accuracy_log_ts = np.mean(y_ts_pred == y_ts_test_cls)\n",
    "print(\"\\nTest Accuracy: \", accuracy_log_ts)\n",
    "\n",
    "print(\"\\nTest Confusion Matrix:\")\n",
    "print(confusion_matrix(y_ts_test_cls, y_ts_pred))\n",
    "\n",
    "precision_test = precision_score(y_ts_test_cls, y_ts_pred) \n",
    "print(\"\\nTest Precision = %f\" % precision_test)\n",
    "\n",
    "recall_test = recall_score(y_ts_test_cls, y_ts_pred)\n",
    "print(\"Test Recall = %f\" % recall_test)\n",
    "\n",
    "\n",
    "f1_test = f1_score(y_ts_test_cls, y_ts_pred)\n",
    "print(\"Test F1 Score = %f\" % f1_test)\n",
    "\n",
    "print(\"\\nClassification Report:\")\n",
    "print(classification_report(y_ts_test_cls, y_ts_pred))"
   ]
  },
  {
   "cell_type": "markdown",
   "metadata": {},
   "source": [
    "<font color=black size=3><u><b>(c) Facebook</b></u></font>"
   ]
  },
  {
   "cell_type": "code",
   "execution_count": 21,
   "metadata": {},
   "outputs": [
    {
     "name": "stdout",
     "output_type": "stream",
     "text": [
      "Best Score (accuracy): 0.820046\n",
      "Optimal Hyperparameter Values:  {'C': 10, 'max_iter': 500, 'solver': 'newton-cg', 'tol': 0.001}\n",
      "\n",
      "\n",
      "Wall time: 58.7 s\n"
     ]
    }
   ],
   "source": [
    "%%time\n",
    "warnings.filterwarnings('ignore')\n",
    "\n",
    "#Training Logistic Regression Classifier on Facebook\n",
    "\n",
    "param_grid_fb = {'solver': ['liblinear', 'newton-cg', 'lbfgs', 'sag', 'saga'],\n",
    "              'tol': [1e-3, 1e-4, 1e-5], 'max_iter':[500, 1000, 2000],'C': [1, 10, 50]}\n",
    "\n",
    "log_fb = LogisticRegression()\n",
    "\n",
    "log_fb_cv = GridSearchCV(log_fb, param_grid_fb, scoring='accuracy', cv=10)\n",
    "log_fb_cv.fit(X_fb, y_fb_cls)\n",
    "\n",
    "params_optimal_log_fb = log_fb_cv.best_params_\n",
    "\n",
    "print(\"Best Score (accuracy): %f\" % log_fb_cv.best_score_)\n",
    "print(\"Optimal Hyperparameter Values: \", params_optimal_log_fb)\n",
    "print(\"\\n\")"
   ]
  },
  {
   "cell_type": "code",
   "execution_count": 22,
   "metadata": {},
   "outputs": [
    {
     "name": "stdout",
     "output_type": "stream",
     "text": [
      "\n",
      "Test Accuracy:  0.7301587301587301\n",
      "\n",
      "Test Confusion Matrix:\n",
      "[[26  7]\n",
      " [10 20]]\n",
      "\n",
      "Test Precision = 0.740741\n",
      "Test Recall = 0.666667\n",
      "Test F1 Score = 0.701754\n",
      "\n",
      "Classification Report:\n",
      "              precision    recall  f1-score   support\n",
      "\n",
      "           0       0.72      0.79      0.75        33\n",
      "           1       0.74      0.67      0.70        30\n",
      "\n",
      "    accuracy                           0.73        63\n",
      "   macro avg       0.73      0.73      0.73        63\n",
      "weighted avg       0.73      0.73      0.73        63\n",
      "\n"
     ]
    }
   ],
   "source": [
    "#Evaluation of Facebook's classification using Logistic Regression:\n",
    "log_fb_clf = LogisticRegression(**params_optimal_log_fb)\n",
    "\n",
    "log_fb_clf.fit(X_fb,y_fb_cls)\n",
    "\n",
    "y_fb_pred = log_fb_clf.predict(X_fb_test)\n",
    "\n",
    "accuracy_log_fb = np.mean(y_fb_pred == y_fb_test_cls)\n",
    "print(\"\\nTest Accuracy: \", accuracy_log_fb)\n",
    "\n",
    "print(\"\\nTest Confusion Matrix:\")\n",
    "print(confusion_matrix(y_fb_test_cls, y_fb_pred))\n",
    "\n",
    "precision_test = precision_score(y_fb_test_cls, y_fb_pred) \n",
    "print(\"\\nTest Precision = %f\" % precision_test)\n",
    "\n",
    "recall_test = recall_score(y_fb_test_cls, y_fb_pred)\n",
    "print(\"Test Recall = %f\" % recall_test)\n",
    "\n",
    "\n",
    "f1_test = f1_score(y_fb_test_cls, y_fb_pred)\n",
    "print(\"Test F1 Score = %f\" % f1_test)\n",
    "\n",
    "print(\"\\nClassification Report:\")\n",
    "print(classification_report(y_fb_test_cls, y_fb_pred))"
   ]
  },
  {
   "cell_type": "markdown",
   "metadata": {},
   "source": [
    "<font color=black size=6><u><b>Training ANN(MLP)</b></u></font>"
   ]
  },
  {
   "cell_type": "markdown",
   "metadata": {},
   "source": [
    "<font color=black size=3><u><b>(a) Samsung</b></u></font>"
   ]
  },
  {
   "cell_type": "code",
   "execution_count": 23,
   "metadata": {
    "scrolled": false
   },
   "outputs": [
    {
     "name": "stdout",
     "output_type": "stream",
     "text": [
      "Best Score (accuracy): 0.522459\n",
      "Optimal Hyperparameter Values:  {'alpha': 0.01, 'hidden_layer_sizes': (100,), 'max_iter': 500, 'tol': 0.001}\n",
      "\n",
      "\n",
      "Wall time: 1h 4min 4s\n"
     ]
    }
   ],
   "source": [
    "%%time\n",
    "warnings.filterwarnings('ignore')\n",
    "\n",
    "#Training MLP on Samsung:\n",
    "param_grid_ss = {'tol': [1e-3, 1e-4, 1e-5], 'max_iter':[500, 1000, 2000], \n",
    "               'alpha': [0.001, 0.01, 0.1],\n",
    "             'hidden_layer_sizes' : [(100,), (100, 100),\n",
    "                                    (200,), (200, 200,)]}\n",
    "\n",
    "MLP_ss = MLPClassifier()\n",
    "\n",
    "MLP_ss_cv = GridSearchCV(MLP_ss, param_grid_ss, scoring='accuracy', cv=10)\n",
    "MLP_ss_cv.fit(X_ss, y_ss_cls)\n",
    "\n",
    "params_optimal_MLP_ss = MLP_ss_cv.best_params_\n",
    "\n",
    "print(\"Best Score (accuracy): %f\" % MLP_ss_cv.best_score_)\n",
    "print(\"Optimal Hyperparameter Values: \", params_optimal_MLP_ss)\n",
    "print(\"\\n\")"
   ]
  },
  {
   "cell_type": "code",
   "execution_count": 27,
   "metadata": {},
   "outputs": [
    {
     "name": "stdout",
     "output_type": "stream",
     "text": [
      "\n",
      "Test Accuracy:  0.5901639344262295\n",
      "\n",
      "Test Confusion Matrix:\n",
      "[[36  0]\n",
      " [25  0]]\n",
      "\n",
      "Test Precision = 0.000000\n",
      "Test Recall = 0.000000\n",
      "Test F1 Score = 0.000000\n",
      "\n",
      "Classification Report:\n",
      "              precision    recall  f1-score   support\n",
      "\n",
      "           0       0.59      1.00      0.74        36\n",
      "           1       0.00      0.00      0.00        25\n",
      "\n",
      "    accuracy                           0.59        61\n",
      "   macro avg       0.30      0.50      0.37        61\n",
      "weighted avg       0.35      0.59      0.44        61\n",
      "\n"
     ]
    }
   ],
   "source": [
    "#Evaluation of Samsung's classification using MLP:\n",
    "MLP_ss_clf = MLPClassifier(**params_optimal_MLP_ss)\n",
    "\n",
    "MLP_ss_clf.fit(X_ss,y_ss_cls)\n",
    "\n",
    "y_ss_pred = MLP_ss_clf.predict(X_ss_test)\n",
    "\n",
    "accuracy_MLP_ss = np.mean(y_ss_pred == y_ss_test_cls)\n",
    "print(\"\\nTest Accuracy: \", accuracy_MLP_ss)\n",
    "\n",
    "print(\"\\nTest Confusion Matrix:\")\n",
    "print(confusion_matrix(y_ss_test_cls, y_ss_pred))\n",
    "\n",
    "precision_test = precision_score(y_ss_test_cls, y_ss_pred) \n",
    "print(\"\\nTest Precision = %f\" % precision_test)\n",
    "\n",
    "recall_test = recall_score(y_ss_test_cls, y_ss_pred)\n",
    "print(\"Test Recall = %f\" % recall_test)\n",
    "\n",
    "f1_test = f1_score(y_ss_test_cls, y_ss_pred)\n",
    "print(\"Test F1 Score = %f\" % f1_test)\n",
    "\n",
    "print(\"\\nClassification Report:\")\n",
    "print(classification_report(y_ss_test_cls, y_ss_pred))"
   ]
  },
  {
   "cell_type": "markdown",
   "metadata": {},
   "source": [
    "<font color=black size=3><u><b>(b) Tesla</b></u></font>"
   ]
  },
  {
   "cell_type": "code",
   "execution_count": 29,
   "metadata": {},
   "outputs": [
    {
     "name": "stdout",
     "output_type": "stream",
     "text": [
      "Best Score (accuracy): 0.501139\n",
      "Optimal Hyperparameter Values:  {'alpha': 0.001, 'hidden_layer_sizes': (100,), 'max_iter': 500, 'tol': 0.0001}\n",
      "\n",
      "\n",
      "Wall time: 1h 2min 1s\n"
     ]
    }
   ],
   "source": [
    "%%time\n",
    "#Training MLP on Tesla\n",
    "param_grid_ts = {'tol': [1e-3, 1e-4, 1e-5], 'max_iter':[500, 1000, 2000], \n",
    "               'alpha': [0.001, 0.01, 0.1],\n",
    "             'hidden_layer_sizes' : [(100,), (100, 100),\n",
    "                                    (200,), (200, 200,)]}\n",
    "\n",
    "MLP_ts = MLPClassifier()\n",
    "\n",
    "MLP_ts_cv = GridSearchCV(MLP_ss, param_grid_ss, scoring='accuracy', cv=10)\n",
    "MLP_ts_cv.fit(X_ts, y_ts_cls)\n",
    "\n",
    "params_optimal_MLP_ts = MLP_ts_cv.best_params_\n",
    "\n",
    "print(\"Best Score (accuracy): %f\" % MLP_ts_cv.best_score_)\n",
    "print(\"Optimal Hyperparameter Values: \", params_optimal_MLP_ts)\n",
    "print(\"\\n\")"
   ]
  },
  {
   "cell_type": "code",
   "execution_count": 30,
   "metadata": {},
   "outputs": [
    {
     "name": "stdout",
     "output_type": "stream",
     "text": [
      "\n",
      "Test Accuracy:  0.47619047619047616\n",
      "\n",
      "Test Confusion Matrix:\n",
      "[[ 0 33]\n",
      " [ 0 30]]\n",
      "\n",
      "Test Precision = 0.476190\n",
      "Test Recall = 1.000000\n",
      "Test F1 Score = 0.645161\n",
      "\n",
      "Classification Report:\n",
      "              precision    recall  f1-score   support\n",
      "\n",
      "           0       0.00      0.00      0.00        33\n",
      "           1       0.48      1.00      0.65        30\n",
      "\n",
      "    accuracy                           0.48        63\n",
      "   macro avg       0.24      0.50      0.32        63\n",
      "weighted avg       0.23      0.48      0.31        63\n",
      "\n"
     ]
    }
   ],
   "source": [
    "#Evaluation of Tesla's classification using MLP:\n",
    "MLP_ts_clf = MLPClassifier(**params_optimal_MLP_ts)\n",
    "\n",
    "MLP_ts_clf.fit(X_ts,y_ts_cls)\n",
    "\n",
    "y_ts_pred = MLP_ts_clf.predict(X_ts_test)\n",
    "\n",
    "accuracy_MLP_ts = np.mean(y_ts_pred == y_ts_test_cls)\n",
    "print(\"\\nTest Accuracy: \", accuracy_MLP_ts)\n",
    "\n",
    "print(\"\\nTest Confusion Matrix:\")\n",
    "print(confusion_matrix(y_ts_test_cls, y_ts_pred))\n",
    "\n",
    "precision_test = precision_score(y_ts_test_cls, y_ts_pred) \n",
    "print(\"\\nTest Precision = %f\" % precision_test)\n",
    "\n",
    "recall_test = recall_score(y_ts_test_cls, y_ts_pred)\n",
    "print(\"Test Recall = %f\" % recall_test)\n",
    "\n",
    "f1_test = f1_score(y_ts_test_cls, y_ts_pred)\n",
    "print(\"Test F1 Score = %f\" % f1_test)\n",
    "\n",
    "print(\"\\nClassification Report:\")\n",
    "print(classification_report(y_ts_test_cls, y_ts_pred))"
   ]
  },
  {
   "cell_type": "markdown",
   "metadata": {},
   "source": [
    "<font color=black size=3><u><b>(c) Facebook</b></u></font>"
   ]
  },
  {
   "cell_type": "code",
   "execution_count": 32,
   "metadata": {},
   "outputs": [
    {
     "name": "stdout",
     "output_type": "stream",
     "text": [
      "Best Score (accuracy): 0.539863\n",
      "Optimal Hyperparameter Values:  {'alpha': 0.001, 'hidden_layer_sizes': (100, 100), 'max_iter': 1000, 'tol': 0.001}\n",
      "\n",
      "\n",
      "Wall time: 1h 5min 31s\n"
     ]
    }
   ],
   "source": [
    "%%time\n",
    "#Training Logistic Regression Classifier on Facebook\n",
    "param_grid_fb = {'tol': [1e-3, 1e-4, 1e-5], 'max_iter':[500, 1000, 2000], \n",
    "               'alpha': [0.001, 0.01, 0.1],\n",
    "             'hidden_layer_sizes' : [(100,), (100, 100),\n",
    "                                    (200,), (200, 200,)]}\n",
    "\n",
    "MLP_fb = MLPClassifier()\n",
    "\n",
    "MLP_fb_cv = GridSearchCV(MLP_fb, param_grid_fb, scoring='accuracy', cv=10)\n",
    "MLP_fb_cv.fit(X_fb, y_fb_cls)\n",
    "\n",
    "params_optimal_MLP_fb = MLP_fb_cv.best_params_\n",
    "\n",
    "print(\"Best Score (accuracy): %f\" % MLP_fb_cv.best_score_)\n",
    "print(\"Optimal Hyperparameter Values: \", params_optimal_MLP_fb)\n",
    "print(\"\\n\")"
   ]
  },
  {
   "cell_type": "code",
   "execution_count": 33,
   "metadata": {},
   "outputs": [
    {
     "name": "stdout",
     "output_type": "stream",
     "text": [
      "\n",
      "Test Accuracy:  0.5238095238095238\n",
      "\n",
      "Test Confusion Matrix:\n",
      "[[33  0]\n",
      " [30  0]]\n",
      "\n",
      "Test Precision = 0.000000\n",
      "Test Recall = 0.000000\n",
      "Test F1 Score = 0.000000\n",
      "\n",
      "Classification Report:\n",
      "              precision    recall  f1-score   support\n",
      "\n",
      "           0       0.52      1.00      0.69        33\n",
      "           1       0.00      0.00      0.00        30\n",
      "\n",
      "    accuracy                           0.52        63\n",
      "   macro avg       0.26      0.50      0.34        63\n",
      "weighted avg       0.27      0.52      0.36        63\n",
      "\n"
     ]
    }
   ],
   "source": [
    "#Evaluation of Facebook's classification using MLP:\n",
    "MLP_fb_clf = MLPClassifier(**params_optimal_MLP_fb)\n",
    "\n",
    "MLP_fb_clf.fit(X_fb,y_fb_cls)\n",
    "\n",
    "y_fb_pred = MLP_fb_clf.predict(X_fb_test)\n",
    "\n",
    "accuracy_MLP_ts = np.mean(y_fb_pred == y_fb_test_cls)\n",
    "print(\"\\nTest Accuracy: \", accuracy_MLP_ts)\n",
    "\n",
    "print(\"\\nTest Confusion Matrix:\")\n",
    "print(confusion_matrix(y_fb_test_cls, y_fb_pred))\n",
    "\n",
    "precision_test = precision_score(y_fb_test_cls, y_fb_pred) \n",
    "print(\"\\nTest Precision = %f\" % precision_test)\n",
    "\n",
    "recall_test = recall_score(y_fb_test_cls, y_fb_pred)\n",
    "print(\"Test Recall = %f\" % recall_test)\n",
    "\n",
    "\n",
    "f1_test = f1_score(y_fb_test_cls, y_fb_pred)\n",
    "print(\"Test F1 Score = %f\" % f1_test)\n",
    "\n",
    "print(\"\\nClassification Report:\")\n",
    "print(classification_report(y_fb_test_cls, y_fb_pred))"
   ]
  }
 ],
 "metadata": {
  "kernelspec": {
   "display_name": "Python 3",
   "language": "python",
   "name": "python3"
  },
  "language_info": {
   "codemirror_mode": {
    "name": "ipython",
    "version": 3
   },
   "file_extension": ".py",
   "mimetype": "text/x-python",
   "name": "python",
   "nbconvert_exporter": "python",
   "pygments_lexer": "ipython3",
   "version": "3.7.3"
  }
 },
 "nbformat": 4,
 "nbformat_minor": 2
}
